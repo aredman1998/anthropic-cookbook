{
  "cells": [
    {
      "attachments": {},
      "cell_type": "markdown",
      "metadata": {
        "id": "dzNng6vCL9eP"
      },
      "source": [
        "# Python Tutorial "
      ]
    },
    {
      "attachments": {},
      "cell_type": "markdown",
      "metadata": {
        "id": "0vJLt3JRL9eR"
      },
      "source": [
        "This tutorial was created by [Juan Rojas](http://www.juanrojas.net). \n",
        "\n",
        "\n",
        "For more about python beyond this tutorial please look at W3 School's tutorial: https://www.w3schools.com/python/"
      ]
    },
    {
      "attachments": {},
      "cell_type": "markdown",
      "metadata": {
        "id": "qVrTo-LhL9eS"
      },
      "source": [
        "## Introduction"
      ]
    },
    {
      "cell_type": "markdown",
      "metadata": {
        "id": "9t1gKp9PL9eV"
      },
      "source": [
        "Python is a great general-purpose programming language on its own and the predominant language for AI in this age. Python is a high-level language, almost like pseudocode, since one can express powerful ideas in a readable way in very few lines of code. In this notebook, we will learn python basics as related to interfacing with Claude.AI's interface or API.\n",
        "\n",
        "We will use python 3.10+. Check your Python version at the command line by running:\n",
        "\n",
        "`python --version` \n",
        "\n",
        "or \n",
        "\n",
        "`python3 --version`.\n",
        "\n",
        "Note that `#` signs create comments and are not executed."
      ]
    },
    {
      "cell_type": "code",
      "execution_count": 77,
      "metadata": {
        "colab": {
          "base_uri": "https://localhost:8080/",
          "height": 34
        },
        "id": "1L4Am0QATgOc",
        "outputId": "bb5ee3ac-8683-44ab-e599-a2077510f327"
      },
      "outputs": [
        {
          "name": "stdout",
          "output_type": "stream",
          "text": [
            "Python 3.11.1\n"
          ]
        }
      ],
      "source": [
        "!python --version\n",
        "#!python3 --version"
      ]
    },
    {
      "attachments": {},
      "cell_type": "markdown",
      "metadata": {
        "id": "JAFKYgrpL9eY"
      },
      "source": [
        "## Basics of Python"
      ]
    },
    {
      "attachments": {},
      "cell_type": "markdown",
      "metadata": {
        "id": "NwS_hu4xL9eo"
      },
      "source": [
        "### Basic data types"
      ]
    },
    {
      "attachments": {},
      "cell_type": "markdown",
      "metadata": {
        "id": "DL5sMSZ9L9eq"
      },
      "source": [
        "#### Numbers"
      ]
    },
    {
      "cell_type": "markdown",
      "metadata": {
        "id": "MGS0XEWoL9er"
      },
      "source": [
        "Integers (whole-numbers) and floats (decimals) work as as a calculator."
      ]
    },
    {
      "cell_type": "code",
      "execution_count": 1,
      "metadata": {
        "colab": {
          "base_uri": "https://localhost:8080/",
          "height": 52
        },
        "id": "KheDr_zDL9es",
        "outputId": "1db9f4d3-2e0d-4008-f78a-161ed52c4359"
      },
      "outputs": [],
      "source": [
        "# Create a variable x = 1 and y = 2 as integers\n",
        "x = 2\n",
        "y = 4"
      ]
    },
    {
      "cell_type": "markdown",
      "metadata": {},
      "source": [
        "Perform mathematical operations on x and y"
      ]
    },
    {
      "cell_type": "code",
      "execution_count": null,
      "metadata": {},
      "outputs": [],
      "source": [
        "# Addition\n",
        "x+y"
      ]
    },
    {
      "cell_type": "code",
      "execution_count": null,
      "metadata": {},
      "outputs": [],
      "source": [
        "# Subtraction\n",
        "y-x"
      ]
    },
    {
      "cell_type": "code",
      "execution_count": null,
      "metadata": {},
      "outputs": [],
      "source": [
        "# Multiplication\n",
        "x*y"
      ]
    },
    {
      "cell_type": "code",
      "execution_count": null,
      "metadata": {},
      "outputs": [],
      "source": [
        "# Division\n",
        "y/x"
      ]
    },
    {
      "cell_type": "code",
      "execution_count": null,
      "metadata": {},
      "outputs": [],
      "source": [
        "# Raise to the power\n",
        "x**y"
      ]
    },
    {
      "cell_type": "code",
      "execution_count": null,
      "metadata": {},
      "outputs": [],
      "source": [
        "# Compute the square root of x\n",
        "x**0.5"
      ]
    },
    {
      "cell_type": "markdown",
      "metadata": {},
      "source": [
        "Note that types is important. Consider having two integers of values x=3 and y=4. And you want to do the division y/x = 4/3 = 1.333. Since this result is a float but both of your inputs are integers, your result would lose it's decimal part and the output would be 1!"
      ]
    },
    {
      "cell_type": "code",
      "execution_count": null,
      "metadata": {},
      "outputs": [],
      "source": [
        "x = 3\n",
        "y = 4\n",
        "y/x"
      ]
    },
    {
      "cell_type": "markdown",
      "metadata": {},
      "source": [
        "To handle decimal places, variables need to be floats (at least one of them). This can be accomplished by including a dot. For example x = 4.0 (but including a single dot works too: x = 4.)"
      ]
    },
    {
      "cell_type": "code",
      "execution_count": null,
      "metadata": {},
      "outputs": [],
      "source": [
        "x = 3.  # x is now a float\n",
        "y = 4   # y may still be an integer\n",
        "\n",
        "# Division\n",
        "y/x # y is converted to a float and the result will be 1.333"
      ]
    },
    {
      "cell_type": "markdown",
      "metadata": {},
      "source": [
        "Programming languages like python, consists of functions. Functions perform key operations. Functions will typically have inputs, which are provided to the function inside parenthesis.\n",
        "\n",
        "Let's examine two simple functions: type() and print().\n",
        "- print can take one or multiple variables. For more type help(print) \n",
        "- type() will take a single variable and will return or output the type of the variable. \n",
        "  For us, some of the basic types we will work with are:\n",
        "\n",
        "\n",
        "| **Type Category**    | **Type**      | **Description**                                     | **Example**                 |\n",
        "|-----------------------|--------------|-----------------------------------------------------|-----------------------------|\n",
        "| **Numeric Types**     | `int`        | Integer numbers (unlimited precision).             | `42`, `-7`                 |\n",
        "|                       | `float`      | Floating-point (decimal) numbers.                  | `3.14`, `-2.71`            |                |\n",
        "| **Sequence Types**    | `str`        | Immutable sequence of Unicode characters.          | `\"hello\"`, `'world'`       |\n",
        "|                       | `list`       | Mutable, ordered collection of elements.           | `[1, 2, 3]`, `[\"a\"]`       |\n",
        "|                       | `tuple`      | Immutable, ordered collection of elements.         | `(1, 2, 3)`, `(\"x\",)`      |\n",
        "|                       | `range`      | Represents a sequence of numbers.                  | `range(5)`                 |\n",
        "| **Mapping Types**     | `dict`       | Mutable, unordered collection of key-value pairs.  | `{\"a\": 1, \"b\": 2}`         |\n",
        "| **Boolean Type**      | `bool`       | Represents truth values `True` or `False`.         | `True`, `False`            |\n",
        "|                       | `bytearray`  | Mutable sequence of bytes.                         | `bytearray([65, 66, 67])`  |\n",
        "| **None Type**         | `NoneType`   | Represents the absence of a value or null value.   | `None`                     |\n"
      ]
    },
    {
      "cell_type": "code",
      "execution_count": null,
      "metadata": {},
      "outputs": [],
      "source": [
        "print(x, type(x))\n",
        "print(y, type(y))"
      ]
    },
    {
      "cell_type": "markdown",
      "metadata": {},
      "source": [
        "Other operations may consists of instances where you are performing a fixed arithmetic operation on the same variable. \n",
        "For example: if you wanted to increase x by 1 you could write:\n",
        "\n",
        "x = x + 1\n",
        "\n",
        "The same operation can be written as:\n",
        "\n",
        "x += 1\n",
        "\n",
        "Or incrementing x by 2 would be written as:\n",
        "\n",
        "x = x*2\n",
        "\n",
        "The same operation can be written as \n",
        "\n",
        "x *= 2"
      ]
    },
    {
      "cell_type": "code",
      "execution_count": null,
      "metadata": {
        "colab": {
          "base_uri": "https://localhost:8080/",
          "height": 52
        },
        "id": "U4Jl8K0tL9e4",
        "outputId": "07e3db14-3781-42b7-8ba6-042b3f9f72ba"
      },
      "outputs": [],
      "source": [
        "# Here is the addition example\n",
        "x = 1.\n",
        "x += 1.\n",
        "print(x)"
      ]
    },
    {
      "cell_type": "code",
      "execution_count": null,
      "metadata": {},
      "outputs": [],
      "source": [
        "# Here is the multiplication example\n",
        "x = 2\n",
        "x *= 2\n",
        "print(x)"
      ]
    },
    {
      "cell_type": "markdown",
      "metadata": {},
      "source": [
        "To summarize, here are examples of similar but different operations:"
      ]
    },
    {
      "cell_type": "code",
      "execution_count": null,
      "metadata": {
        "colab": {
          "base_uri": "https://localhost:8080/",
          "height": 52
        },
        "id": "w-nZ0Sg_L9e9",
        "outputId": "3aa579f8-9540-46ef-935e-be887781ecb4"
      },
      "outputs": [],
      "source": [
        "y = 2.\n",
        "print(type(y))\n",
        "print(y, y + 1, y * 2, y ** 3)"
      ]
    },
    {
      "attachments": {},
      "cell_type": "markdown",
      "metadata": {
        "id": "EqRS7qhBL9fC"
      },
      "source": [
        "#### Booleans"
      ]
    },
    {
      "cell_type": "markdown",
      "metadata": {
        "id": "Nv_LIVOJL9fD"
      },
      "source": [
        "Python implements all of the usual operators for Boolean logic, but uses English words rather than symbols (`&&`, `||`, etc.):"
      ]
    },
    {
      "cell_type": "code",
      "execution_count": null,
      "metadata": {
        "colab": {
          "base_uri": "https://localhost:8080/",
          "height": 34
        },
        "id": "RvoImwgGL9fE",
        "outputId": "1517077b-edca-463f-857b-6a8c386cd387"
      },
      "outputs": [],
      "source": [
        "# Create 2 variables: tt and ff. Assign them the values True and False, respectively.\n",
        "tt = True\n",
        "ff = False\n",
        "print(tt, ff, type(tt), type(ff))"
      ]
    },
    {
      "cell_type": "markdown",
      "metadata": {
        "id": "YQgmQfOgL9fI"
      },
      "source": [
        "Now we let's look at possible logical operations like AND, OR, NOT, or XOR.\n",
        "\n",
        "| tt | ff | AND | OR | NOT tt | NOT ff | XOR |\n",
        "|----|----|-----|----|--------|--------|-----|\n",
        "| 0  | 0  |  0  | 0  |   1    |   1    |  0  |\n",
        "| 0  | 1  |  0  | 1  |   1    |   0    |  1  |\n",
        "| 1  | 0  |  0  | 1  |   0    |   1    |  1  |\n",
        "| 1  | 1  |  1  | 1  |   0    |   0    |  0  |\n"
      ]
    },
    {
      "cell_type": "code",
      "execution_count": null,
      "metadata": {
        "colab": {
          "base_uri": "https://localhost:8080/",
          "height": 86
        },
        "id": "6zYm7WzCL9fK",
        "outputId": "f3cebe76-5af4-473a-8127-88a1fd60560f"
      },
      "outputs": [],
      "source": [
        "print(tt and ff)    # Logical AND;\n",
        "print(tt or ff)     # Logical OR;\n",
        "print(not tt)       # Logical NOT;\n",
        "print(tt != ff)     # Logical XOR;"
      ]
    },
    {
      "attachments": {},
      "cell_type": "markdown",
      "metadata": {
        "id": "UQnQWFEyL9fP"
      },
      "source": [
        "#### Strings\n",
        "\n",
        "In Python, a \"string\" is simply a way to represent and work with text. Think of it as a collection of characters, like letters, numbers, and symbols, wrapped in quotation marks. For example, `\"Hello, World!\"` or `'123'` are strings. Single quotes or double quotes is the same.\n",
        "\n",
        "\n",
        "They let you store and manipulate words, phrases, or any text-based information in your programs. You can combine strings, break them apart, or even search for specific words within them. Strings are incredibly versatile and are used in everything from creating messages on a website to organizing data in a program. They’re like digital building blocks for handling text! You will use them often interfacing with ClaudeAI."
      ]
    },
    {
      "cell_type": "markdown",
      "metadata": {},
      "source": [
        "Strings can be stored in variables:"
      ]
    },
    {
      "cell_type": "code",
      "execution_count": null,
      "metadata": {
        "colab": {
          "base_uri": "https://localhost:8080/",
          "height": 34
        },
        "id": "AijEDtPFL9fP",
        "outputId": "2a6b0cd7-58f1-43cf-e6b7-bf940d532549"
      },
      "outputs": [],
      "source": [
        "str1 = 'hello'   # String literals can use single quotes\n",
        "str2 = \"world\"   # or double quotes; it does not matter\n",
        "print(str1, len(str2))"
      ]
    },
    {
      "cell_type": "code",
      "execution_count": null,
      "metadata": {
        "colab": {
          "base_uri": "https://localhost:8080/",
          "height": 34
        },
        "id": "saDeaA7hL9fT",
        "outputId": "2837d0ab-9ae5-4053-d087-bfa0af81c344"
      },
      "outputs": [],
      "source": [
        "hw = str1 + ' ' + str2  # String concatenation\n",
        "print(hw)"
      ]
    },
    {
      "cell_type": "markdown",
      "metadata": {},
      "source": [
        "You can also create strings of numbers. "
      ]
    },
    {
      "cell_type": "code",
      "execution_count": 9,
      "metadata": {},
      "outputs": [],
      "source": [
        "num_str1 = '10'\n",
        "num_str2 = '20'"
      ]
    },
    {
      "cell_type": "markdown",
      "metadata": {},
      "source": [
        "Adding (number) strings does not add numbers as in an arithmetic operation. Instead, it combines the strings together."
      ]
    },
    {
      "cell_type": "code",
      "execution_count": null,
      "metadata": {},
      "outputs": [],
      "source": [
        "out = num_str1 + num_str2\n",
        "print(out)"
      ]
    },
    {
      "cell_type": "markdown",
      "metadata": {},
      "source": [
        "You can print strings with print() and add other text or spaces as needed:"
      ]
    },
    {
      "cell_type": "code",
      "execution_count": null,
      "metadata": {},
      "outputs": [],
      "source": [
        "'Hello. Tom, happy ' + num_str1 + 'th birthday!'"
      ]
    },
    {
      "cell_type": "markdown",
      "metadata": {},
      "source": [
        "If you want to print your result to your terminal and extract the values in the variables (i.e. num_str1), we need to use what is called an f-string. \n",
        "F-strings start with an f before the single quotes and then can take any variable inside curly braces to print the value of that variable:"
      ]
    },
    {
      "cell_type": "code",
      "execution_count": null,
      "metadata": {},
      "outputs": [],
      "source": [
        "print(f'Hello Tom. Happy {num_str1}th birthday!')"
      ]
    },
    {
      "cell_type": "markdown",
      "metadata": {
        "id": "bUpl35bIL9fc"
      },
      "source": [
        "String objects have a bunch of useful methods; for example:"
      ]
    },
    {
      "cell_type": "code",
      "execution_count": null,
      "metadata": {
        "colab": {
          "base_uri": "https://localhost:8080/",
          "height": 121
        },
        "id": "VOxGatlsL9fd",
        "outputId": "ab009df3-8643-4d3e-f85f-a813b70db9cb"
      },
      "outputs": [],
      "source": [
        "s = \"hello\"\n",
        "print(s.capitalize())  # Capitalize a string"
      ]
    },
    {
      "cell_type": "code",
      "execution_count": null,
      "metadata": {},
      "outputs": [],
      "source": [
        "s = \"you are big\"\n",
        "print(s.upper())       # Convert a string to uppercase; prints \"HELLO\""
      ]
    },
    {
      "cell_type": "markdown",
      "metadata": {},
      "source": [
        "Replacing text is simple with pyton. Only call the 'replace' function by using the dot operator on the string variable:"
      ]
    },
    {
      "cell_type": "markdown",
      "metadata": {},
      "source": [
        "Remove empty spaces with the function strip():"
      ]
    },
    {
      "cell_type": "code",
      "execution_count": null,
      "metadata": {},
      "outputs": [],
      "source": [
        "print('  world '.strip())  # Strip leading and trailing whitespace"
      ]
    },
    {
      "cell_type": "markdown",
      "metadata": {},
      "source": [
        "Any given string sequence can be repeated using multiplication:"
      ]
    },
    {
      "cell_type": "code",
      "execution_count": null,
      "metadata": {},
      "outputs": [],
      "source": [
        "hello = 'repeat'\n",
        "print((hello + ' ')*3)"
      ]
    },
    {
      "attachments": {},
      "cell_type": "markdown",
      "metadata": {},
      "source": [
        "##### Splitting and Joining\n",
        "We can also work with functions split() and join() to split and join strings respectively.\n",
        "\n",
        "- split() called via the dot operator. By default separates a sentence using empty spaces. It will return a list of strings corresponding to each of the words.\n",
        "- join()  called via the dot operator. The input variaable will be the list of words you want to join. If you want whitespace, the calling string needs to to have an empty space."
      ]
    },
    {
      "cell_type": "code",
      "execution_count": null,
      "metadata": {},
      "outputs": [],
      "source": [
        "a = \"this is a sentence\"\n",
        "split_str = a.split()             # uses empty spaces by default\n",
        "split_str"
      ]
    },
    {
      "cell_type": "markdown",
      "metadata": {},
      "source": [
        "Join with no spaces:"
      ]
    },
    {
      "cell_type": "code",
      "execution_count": null,
      "metadata": {},
      "outputs": [],
      "source": [
        "rejoin_sentence_no_spaces = \"\".join(split_str)\n",
        "print(rejoin_sentence_no_spaces)"
      ]
    },
    {
      "cell_type": "markdown",
      "metadata": {},
      "source": [
        "Join with spaces:"
      ]
    },
    {
      "cell_type": "code",
      "execution_count": null,
      "metadata": {},
      "outputs": [],
      "source": [
        "\n",
        "rejoin_sentences = \" \".join(split_str)\n",
        "print(rejoin_sentences)"
      ]
    },
    {
      "cell_type": "markdown",
      "metadata": {
        "id": "06cayXLtL9fi"
      },
      "source": [
        "You can find a list of all string methods in the [documentation](https://docs.python.org/3.7/library/stdtypes.html#string-methods)."
      ]
    },
    {
      "attachments": {},
      "cell_type": "markdown",
      "metadata": {},
      "source": [
        "There are also [f-strings](https://realpython.com/python-f-strings/), which are much easier to manipulate. F-strings allow you to directly enter variables into the string via curly brackets."
      ]
    },
    {
      "cell_type": "markdown",
      "metadata": {},
      "source": [
        "### Replacing\n",
        "\n",
        "The replace method in the Python string class is used to replace occurrences of a specified substring with another substring. It returns a new string with all occurrences of the old substring replaced by the new substring.\n",
        "\n",
        "Syntax:   \n",
        "- str.replace(old, new[, count])\n",
        "\n",
        "Parameters:\n",
        "- old: The substring to be replaced.  \n",
        "- new: The substring to replace with.  \n",
        "- count (optional): The maximum number of occurrences to replace. If not provided, all occurrences will be replaced."
      ]
    },
    {
      "cell_type": "code",
      "execution_count": null,
      "metadata": {},
      "outputs": [],
      "source": [
        "text = \"Hello, world! Hello, everyone!\"\n",
        "\n",
        "# Replace all occurrences of 'Hello' with 'Hi'\n",
        "new_text = text.replace('Hello', 'Hi')\n",
        "print(new_text)  # Output: \"Hi, world! Hi, everyone!\"\n"
      ]
    },
    {
      "cell_type": "markdown",
      "metadata": {},
      "source": [
        "You can also do multiple replacements. This works by create a chain of replace calls:"
      ]
    },
    {
      "cell_type": "code",
      "execution_count": null,
      "metadata": {},
      "outputs": [],
      "source": [
        "str_exmple = \"Hello, world! Hello, everyone!\"\n",
        "\n",
        "# You can also do multiple replacements, by concatenating .replace calls:\n",
        "print( str_exmple.replace('Hello', 'Hi').replace('world','class') )  # Output: \"Hi, world! Hello, everyone!\""
      ]
    },
    {
      "attachments": {},
      "cell_type": "markdown",
      "metadata": {
        "id": "p-6hClFjL9fk"
      },
      "source": [
        "### Containers"
      ]
    },
    {
      "cell_type": "markdown",
      "metadata": {
        "id": "FD9H18eQL9fk"
      },
      "source": [
        "Python includes several built-in container types: lists, dictionaries, sets, and tuples. We will limit ourselves to lists and dictionaries. The types you will predominantly see in the API."
      ]
    },
    {
      "attachments": {},
      "cell_type": "markdown",
      "metadata": {
        "id": "UsIWOe0LL9fn"
      },
      "source": [
        "#### Lists"
      ]
    },
    {
      "cell_type": "markdown",
      "metadata": {
        "id": "wzxX7rgWL9fn"
      },
      "source": [
        "A list is a sequence of elements of different types: numbers, strings, or even other containsers like lists or dictionaries. "
      ]
    },
    {
      "cell_type": "markdown",
      "metadata": {},
      "source": [
        "A list of numbers"
      ]
    },
    {
      "cell_type": "code",
      "execution_count": null,
      "metadata": {},
      "outputs": [],
      "source": [
        "ls_nums = [1, 2, 3]   # a list with three numbers.\n",
        "print(ls_nums)\n"
      ]
    },
    {
      "cell_type": "markdown",
      "metadata": {},
      "source": [
        "A list with strings. "
      ]
    },
    {
      "cell_type": "code",
      "execution_count": null,
      "metadata": {},
      "outputs": [],
      "source": [
        "ls_str = ['10', '20', '30']  # a list with three strings of numbers\n",
        "print(ls_str)"
      ]
    },
    {
      "cell_type": "markdown",
      "metadata": {},
      "source": [
        "A list with a combination of numbers and strings:"
      ]
    },
    {
      "cell_type": "code",
      "execution_count": null,
      "metadata": {
        "colab": {
          "base_uri": "https://localhost:8080/",
          "height": 34
        },
        "id": "YCjCy_0_L9ft",
        "outputId": "417c54ff-170b-4372-9099-0f756f8e48af"
      },
      "outputs": [],
      "source": [
        "ls_comb = [1, 2, 3, 'claude-3-5-sonnet-20241022']   # a list with three numbers.\n",
        "print(ls_comb)"
      ]
    },
    {
      "cell_type": "markdown",
      "metadata": {},
      "source": [
        "A list with a combination of numbers, strings, and others lists."
      ]
    },
    {
      "cell_type": "code",
      "execution_count": null,
      "metadata": {
        "colab": {
          "base_uri": "https://localhost:8080/",
          "height": 34
        },
        "id": "vJ0x5cF-L9fx",
        "outputId": "a97731a3-70e1-4553-d9e0-2aea227cac80"
      },
      "outputs": [],
      "source": [
        "ls1 = [\"role\", \"user\"]\n",
        "ls2 = [\"style\", \"expert\"]\n",
        "ls3 = [\"model\", \"claude-3-5-sonnet-20241022\"]\n",
        "ls4 = [\"tokens\", 1024]\n",
        "\n",
        "# Compose the lists\n",
        "message_lists = [ls1, ls2, ls3, ls4]\n",
        "\n",
        "# Print info about messages_list\n",
        "print( f\"Here is a list composed by four other lists:\\n {message_lists}.\" ) # The \\n chars are used to create a new line.\n",
        "print(f\"The type of messages_list is: {type(message_lists)}. \")"
      ]
    },
    {
      "attachments": {},
      "cell_type": "markdown",
      "metadata": {
        "id": "H8xsUEFpL9gZ"
      },
      "source": [
        "#### Dictionaries"
      ]
    },
    {
      "cell_type": "markdown",
      "metadata": {
        "id": "kkjAGMAJL9ga"
      },
      "source": [
        "A dictionary stores (key, value) pairs. \n",
        "\n",
        "Imagine you want a key to identify types of values: age, gender, address, model and then have a correpsonding value for that key.\n",
        "- Keys can be ints, flots, strings, booleans, amongst other types. \n",
        "- Values can pretty much be anything.\n",
        "\n",
        "For example, consider we want to encode the role that the AI system should enact. Act as a user or as the LLM or system itself. \n",
        "\n",
        "Syntax: \n",
        "- Set a variable to curlly braces {}\n",
        "- Key is the first variable\n",
        "- Followed by a colon\n",
        "- Followed by the value\n",
        "\n",
        "```\n",
        "d = {\"role\" : \"user\"}\n",
        "        |        |\n",
        "      key       value\n",
        "    string     string\n",
        "```"
      ]
    },
    {
      "cell_type": "code",
      "execution_count": null,
      "metadata": {
        "colab": {
          "base_uri": "https://localhost:8080/",
          "height": 52
        },
        "id": "XBYI1MrYL9gb",
        "outputId": "8e24c1da-0fc0-4b4c-a3e6-6f758a53b7da"
      },
      "outputs": [],
      "source": [
        "d1 = {'role': 'user'} # Claude acts as a user, i.e. yourself.\n",
        "print(d1)\n",
        "\n",
        "d2 = {'role': 'system'} # Claude acts as a system\n",
        "print(d2)\n"
      ]
    },
    {
      "cell_type": "markdown",
      "metadata": {},
      "source": [
        "You can have more than 1 pair of (key:value) pairs. For Claude's API we will see later, we will not only have to specify the role, but also whether we are working with text or images using the key: \"type\". "
      ]
    },
    {
      "cell_type": "code",
      "execution_count": null,
      "metadata": {},
      "outputs": [],
      "source": [
        "d = {'role': 'user', \"type\": \"text\"}\n",
        "print(d)"
      ]
    },
    {
      "cell_type": "markdown",
      "metadata": {},
      "source": [
        "If the type is text, we will have to include the text we want to submit. Notice that the value for 'type' is \"text\", but then we create a new pair where the word \"text\" is the key!"
      ]
    },
    {
      "cell_type": "code",
      "execution_count": null,
      "metadata": {
        "colab": {
          "base_uri": "https://localhost:8080/",
          "height": 34
        },
        "id": "pS7e-G-HL9gf",
        "outputId": "feb4bf18-c0a3-42a2-eaf5-3fc390f36dcf"
      },
      "outputs": [],
      "source": [
        "d = {'role': 'user', \"type\": \"text\", \"text\": \"What is the weather like today in Nashville, TN?\"}\n",
        "print(d)"
      ]
    },
    {
      "cell_type": "markdown",
      "metadata": {},
      "source": [
        "Note that to facilitate the reading of the dictionary, different (key:value) pairs can be written in a separate line as long as they are inside the curly braces. We also indent them to see easily that they are inside the curly braces and thus the dictionary."
      ]
    },
    {
      "cell_type": "code",
      "execution_count": null,
      "metadata": {},
      "outputs": [],
      "source": [
        "d = {\n",
        "        'role': 'user', \n",
        "        \"type\": \"text\", \n",
        "        \"text\": \"What is the weather like today in Nashville, TN?\"\n",
        "    }\n",
        "print(d)"
      ]
    },
    {
      "cell_type": "markdown",
      "metadata": {},
      "source": [
        "One last improvement that we can explore is placing the long text value in a variable first. This would be our prompt. \n",
        "\n",
        "In doing so, it will be easier to handle the code."
      ]
    },
    {
      "cell_type": "code",
      "execution_count": null,
      "metadata": {},
      "outputs": [],
      "source": [
        "# Start by defining your prompt\n",
        "prompt = \"What is the weather like today in Nashville, TN?\"\n",
        "\n",
        "# Now we can simply pass the prompt variables to the dictionary\n",
        "d = {\n",
        "        'role': 'user', \n",
        "        \"type\": \"text\", \n",
        "        \"text\": prompt\n",
        "    }\n",
        "print(d)"
      ]
    },
    {
      "cell_type": "markdown",
      "metadata": {
        "id": "wqm4dRZNL9gr"
      },
      "source": [
        "You can find all you need to know about dictionaries in the [documentation](https://docs.python.org/2/library/stdtypes.html#dict)."
      ]
    },
    {
      "attachments": {},
      "cell_type": "markdown",
      "metadata": {
        "id": "AXA4jrEOL9hM"
      },
      "source": [
        "### Functions"
      ]
    },
    {
      "cell_type": "markdown",
      "metadata": {
        "id": "WaRms-QfL9hN"
      },
      "source": [
        "In Python, a function is like a reusable recipe that performs a specific task. Imagine you have a recipe for making a sandwich: it has a name (e.g., \"Make Sandwich\"), a list of ingredients (inputs), and step-by-step instructions (the code). When you follow the recipe, you get a sandwich (the output). In the same way, a Python function allows you to write a block of code once and use it whenever needed by simply \"calling\" its name. This makes your work faster and avoids repeating the same steps over and over. Functions can also take ingredients (called parameters) and return a result after completing their task.\n",
        "\n",
        "Syntax:\n",
        "- python functions begin with the `def` keyword. \n",
        "- followed by the name of the function\n",
        "- followed by a pair of parenthesis that will hold all inputs -- note no space between the function name and the parenthesis\n",
        "- followed by a list of input variables. You could have 0,1,2,or more input variables. \n",
        "- followed by a semi-colon which marks the beginning of the function body.\n",
        "\n",
        "Function body:\n",
        "- After the first line, all lines that pertain to the body of the function must be indented.\n",
        "- You will do a logical set of steps.\n",
        "- When you are finished, you will often want to output data in the form of variables. \n",
        "\n",
        "Output:\n",
        "- You can output one or more variables by first using the `return` keyworld.\n",
        "\n",
        "Example:\n",
        "- Let's start with an example of a simple function. \n",
        "- Consider a function called `add_numbers` that takes two inputs with names `x1` and `x2` and will simply output their sum."
      ]
    },
    {
      "cell_type": "code",
      "execution_count": 72,
      "metadata": {},
      "outputs": [],
      "source": [
        "def add_numbers(x1,x2):\n",
        "    return x1 + x2"
      ]
    },
    {
      "cell_type": "markdown",
      "metadata": {},
      "source": [
        "After you define or create a function, you can subsequently use it.\n",
        "\n",
        "We usually say that we are going to call the function. Imagine that your inputs x1 and x2 will take on values 1 and 2. \n",
        "\n",
        "Then you call the function as follows:"
      ]
    },
    {
      "cell_type": "code",
      "execution_count": null,
      "metadata": {},
      "outputs": [],
      "source": [
        "add_numbers(1,2)"
      ]
    },
    {
      "cell_type": "markdown",
      "metadata": {},
      "source": [
        "You can call this function as many times as you want and call it with different input values:"
      ]
    },
    {
      "cell_type": "code",
      "execution_count": null,
      "metadata": {},
      "outputs": [],
      "source": [
        "add_numbers(-5,-10)"
      ]
    },
    {
      "cell_type": "markdown",
      "metadata": {},
      "source": [
        "\n",
        "In Claude's API we will often use a function called `create()`. \n",
        "\n",
        "This function is used to send all the required information to the LLM. \n",
        "We won't actually program it, but if we did it the first line might look like:\n",
        "\n",
        "`def create(model, max_tokens, temperature, messages):` where, \n",
        "- model: (string) defines the model you want to use. See https://docs.anthropic.com/en/docs/about-claude/models\n",
        "- max_tokens: (innt) controls the max length of output tokens (similar to characters)\n",
        "- temperature: (float) how random should the answer be (0 = not random, 1 = very random)\n",
        "- messages: (list) will contain a dictionary with the following keys:\n",
        "  - role: (string) user/system/assistant/function\n",
        "  - name: (string) name of role player\n",
        "  - content: (list) another list that contains\n",
        "    - type: (string) text or image\n",
        "    - text: (string) prompt to pass in."
      ]
    },
    {
      "cell_type": "code",
      "execution_count": 73,
      "metadata": {
        "colab": {
          "base_uri": "https://localhost:8080/",
          "height": 69
        },
        "id": "kiMDUr58L9hN",
        "outputId": "9f53bf9a-7b2a-4c51-9def-398e4677cd6c"
      },
      "outputs": [],
      "source": [
        "def create(model, max_tokens, temperature, messages):\n",
        "    print('Dummy output. ClaudeAI will generate a response to your prompt constrained by the other options')    "
      ]
    },
    {
      "cell_type": "markdown",
      "metadata": {},
      "source": [
        "When it comes time to call it, we might call as follows:"
      ]
    },
    {
      "cell_type": "code",
      "execution_count": null,
      "metadata": {},
      "outputs": [],
      "source": [
        "# Create a list with a dictionary entry inside:\n",
        "message_list = [ { \"role\": \"user\", \n",
        "                  \n",
        "                  # Next entry has a list of dict's as a value!\n",
        "                  \"content\": [\n",
        "                                {\n",
        "                                    \"type\": \"text\",\n",
        "                                    \"text\": \"Why is the ocean salty?\"\n",
        "                                }\n",
        "                            ]\n",
        "                 }\n",
        "                ]\n",
        "\n",
        "# Now call our dummy function create. It will just print a simple message.\n",
        "create(\n",
        "    model       = \"claude-3-5-sonnet-20241022\",\n",
        "    max_tokens  = 1000,\n",
        "    temperature = 0,\n",
        "    messages    = message_list\n",
        ")"
      ]
    },
    {
      "cell_type": "markdown",
      "metadata": {
        "id": "U-QJFt8TL9hR"
      },
      "source": [
        "We will often define functions to take optional keyword arguments, like this:"
      ]
    },
    {
      "cell_type": "markdown",
      "metadata": {},
      "source": [
        "## Lambda Functions\n",
        "\n",
        "Lambda functions are super short, quick, tasks. \n",
        "\n",
        "Syntax:\n",
        "- Function name followed by:\n",
        "- `=` followed by\n",
        "- keyword `lambda` followed by\n",
        "- comma separated list of input variables (one or more) followed by:\n",
        "- `:` followed by\n",
        "- one line body of function\n",
        "\n",
        "Consider a function that adds 10 to your input:"
      ]
    },
    {
      "cell_type": "code",
      "execution_count": null,
      "metadata": {},
      "outputs": [],
      "source": [
        "# Let's define a lambda function with a single input argument x, and an output of x+10. \n",
        "add_ten = lambda x: x + 10\n"
      ]
    },
    {
      "cell_type": "markdown",
      "metadata": {},
      "source": [
        "To use the lambda_function, call the function name with an input argument inside parenthesis:"
      ]
    },
    {
      "cell_type": "code",
      "execution_count": null,
      "metadata": {},
      "outputs": [],
      "source": [
        "add_ten(7) # 10 + 7."
      ]
    },
    {
      "cell_type": "markdown",
      "metadata": {},
      "source": [
        "Here is an example with two input arguments:"
      ]
    },
    {
      "cell_type": "code",
      "execution_count": null,
      "metadata": {},
      "outputs": [],
      "source": [
        "# A lambda function that adds two numbers\n",
        "add_two_numbers = lambda x, y: x + y\n",
        "print(add_two_numbers(3, 5))  # Output: 8"
      ]
    },
    {
      "attachments": {},
      "cell_type": "markdown",
      "metadata": {
        "id": "ObA9PRtQL9hT"
      },
      "source": [
        "### Classes"
      ]
    },
    {
      "cell_type": "markdown",
      "metadata": {
        "id": "hAzL_lTkL9hU"
      },
      "source": [
        "A Python class is like a blueprint for creating objects that represent real-world things or ideas, combining both their characteristics (data) and behaviors (functions) into one structure. \n",
        "\n",
        "For example, if you want to represent a car, a class would define attributes like color, brand, and speed, as well as actions it can perform, such as starting, stopping, or accelerating. \n",
        "\n",
        "Once the class is defined, you can create multiple instances (specific cars) from it, each with its unique data but sharing the same functionality. Classes help organize and reuse code efficiently, making it easier to manage complex programs."
      ]
    },
    {
      "cell_type": "markdown",
      "metadata": {},
      "source": [
        "Syntax of the Class:\n",
        "\n",
        "1. class *ClassName:\n",
        "    `# Class body goes here`\n",
        "\n",
        "2. Initialize values for data in the class, otherwise called a 'Constructor'. Must use the function name: `__init__`\n",
        "```\n",
        "def __init__(self, parameter1, parameter2): # self must always be the first input argument in any method of a class. Any additional inputs are comma separated afterwards.\n",
        "    self.attribute1 = parameter1            # all variables are stored internally in variables of the same name but preceded with `self.`\n",
        "    self.attribute2 = parameter2\n",
        "```\n",
        "3. Define the actions or functions of the class, otherwise called 'methods'.\n",
        "```\n",
        "def method_name(self,x ): # self must always be the first input argument in any method of a class. Any additional inputs are comma separated afterwards.\n",
        "    # Method body\n",
        "    return \n",
        "```\n",
        "\n",
        "4. After defining the class, you can 'call' it or create it with specific data. We call this, creating an instance of the class.\n",
        "```\n",
        "instance = ClassName(argument1, argument2)\n",
        "```\n",
        "\n",
        "Let's see a simple naive example of a class that will take the name of a person and can greet you."
      ]
    },
    {
      "cell_type": "code",
      "execution_count": 69,
      "metadata": {
        "colab": {
          "base_uri": "https://localhost:8080/",
          "height": 52
        },
        "id": "RWdbaGigL9hU",
        "outputId": "4f6615c5-75a7-4ce4-8ea1-1e7f5e4e9fc3"
      },
      "outputs": [],
      "source": [
        "# 1. Define the name of the class\n",
        "class Greeter:\n",
        "\n",
        "    # 2: Initialize the values of the class (i.e. the constructor) with __init__. Only one input argument: name.\n",
        "    def __init__(self, name):\n",
        "        self.name = name    # Save name to internal variable self.name\n",
        "\n",
        "    # 3. Create one action/function/method. It will simply print a message with the name stored in th internal self.name variable.\n",
        "    def greet(self):\n",
        "          print(f'Hello, { self.name }!') # f-string to print the name stored in self.name"
      ]
    },
    {
      "cell_type": "markdown",
      "metadata": {},
      "source": [
        "After the class has been defined, we can use it to 'instantiate' different class variables (called objects)."
      ]
    },
    {
      "cell_type": "code",
      "execution_count": null,
      "metadata": {},
      "outputs": [],
      "source": [
        "# 4. Create an instance of the Greeter class after the class has been defined\n",
        "\n",
        "greeter1 = Greeter('Isac')  # Construct an instance of the Greeter class\n",
        "greeter1.greet()            # Call an instance method; prints \"Hello, Fred\""
      ]
    },
    {
      "cell_type": "code",
      "execution_count": null,
      "metadata": {},
      "outputs": [],
      "source": [
        "\n",
        "greeter2 = Greeter('Becca')  \n",
        "greeter2.greet()\n"
      ]
    },
    {
      "cell_type": "markdown",
      "metadata": {},
      "source": [
        "# Create python files that you can call"
      ]
    },
    {
      "attachments": {
        "image-2.png": {
          "image/png": "[encoded data removed]"
        },
        "image.png": {
          "image/png": "[encoded data removed]"
        }
      },
      "cell_type": "markdown",
      "metadata": {},
      "source": [
        "A Python file, or .py file, is a file where you write Python code. To create one, \n",
        "1. Create a new file with VS Code\n",
        "2. Set the type as a python file .py which will serve as a container for your code and can include anything from simple calculations to more complex programs.\n",
        "3. To run or \"call\" the Python file, open a terminal (you can do this from the built-in terminal in VS Code), \n",
        "  - Navigate to the folder where the .py file is saved, \n",
        "  - Type `python3 my_script.py` to execute the code. \n",
        "    If the file contains a program that prints messages, performs calculations, or interacts with you, you’ll see the results directly in the terminal. \n",
        "\n",
        "![image.png](attachment:image.png)\n",
        "![image-2.png](attachment:image-2.png)\n"
      ]
    },
    {
      "attachments": {
        "image.png": {
          "image/png": "[encoded data removed]"
        }
      },
      "cell_type": "markdown",
      "metadata": {},
      "source": [
        "Let's try create a simple function. \n",
        "1. Create a new python file called say_hello.py\n",
        "2. Copy and past the code below\n",
        "![image.png](attachment:image.png)"
      ]
    },
    {
      "cell_type": "code",
      "execution_count": null,
      "metadata": {},
      "outputs": [],
      "source": [
        "# 1. Define a function\n",
        "def say_hello(name):\n",
        "    print(f\"Hello, {name} how are you today?\")\n",
        "    \n",
        "# 2. After definition call it with a name.\n",
        "say_hello('roy')\n",
        "\n",
        "# 3. Save it in a simple path. \n",
        "#   win:   C:\\Users\\username\\say_hello.py\n",
        "#   linux: /home/username\\say_hello.py\n",
        "#   mac:   /Users\\say_hello.py\n",
        "\n",
        "# 4. Call it from the terminal\n",
        "#   win:   python C:\\Users\\username\\say_hello.py\n",
        "#   linux: python /home/username\\say_hello.py\n",
        "#   mac:   python /Users\\say_hello.py "
      ]
    },
    {
      "attachments": {
        "image.png": {
          "image/png": "[encoded data removed]"
        }
      },
      "cell_type": "markdown",
      "metadata": {},
      "source": [
        "![image.png](attachment:image.png)\n",
        "\n"
      ]
    },
    {
      "attachments": {
        "image.png": {
          "image/png": "[encoded data removed]"
        }
      },
      "cell_type": "markdown",
      "metadata": {},
      "source": [
        "The terminal output will look like this:\n",
        "![image.png](attachment:image.png)"
      ]
    }
  ],
  "metadata": {
    "colab": {
      "collapsed_sections": [],
      "name": "colab-tutorial.ipynb",
      "provenance": []
    },
    "kernelspec": {
      "display_name": "Python 3",
      "language": "python",
      "name": "python3"
    },
    "language_info": {
      "codemirror_mode": {
        "name": "ipython",
        "version": 3
      },
      "file_extension": ".py",
      "mimetype": "text/x-python",
      "name": "python",
      "nbconvert_exporter": "python",
      "pygments_lexer": "ipython3",
      "version": "3.11.1"
    }
  },
  "nbformat": 4,
  "nbformat_minor": 0
}
